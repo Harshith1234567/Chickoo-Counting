{
 "cells": [
  {
   "cell_type": "code",
   "execution_count": 1,
   "id": "dd08f169",
   "metadata": {},
   "outputs": [],
   "source": [
    "import os"
   ]
  },
  {
   "cell_type": "markdown",
   "id": "9e8b0934",
   "metadata": {},
   "source": [
    "To activate use \n",
    ".\\tflow\\Scripts\\activate\n",
    "\n",
    "and \n",
    "ipykernel kernel name is tflowj\n",
    "\n",
    "(No need to use this just for understanding)\n",
    "python -m ipykernel install --user --name=tflowj\n",
    "\n",
    "(We need to create virtual environment only once when we start the project)\n",
    "python -m venv tflow\n",
    "\n",
    "youtube link\n",
    "https://www.youtube.com/watch?v=yqkISICHH-U&list=PLgNJO2hghbmid6heTu2Ar68CzJ344nUHy&index=5"
   ]
  },
  {
   "cell_type": "code",
   "execution_count": 2,
   "id": "75fdfd52",
   "metadata": {},
   "outputs": [],
   "source": [
    "labels = ['chickoo']"
   ]
  },
  {
   "cell_type": "code",
   "execution_count": 3,
   "id": "d80998c6",
   "metadata": {},
   "outputs": [],
   "source": [
    "IMAGES_PATH = os.path.join('Tensorflow', 'workspace', 'images', 'collectedimages')"
   ]
  },
  {
   "cell_type": "code",
   "execution_count": 4,
   "id": "1db5fc84",
   "metadata": {},
   "outputs": [
    {
     "data": {
      "text/plain": [
       "'Tensorflow\\\\workspace\\\\images\\\\collectedimages'"
      ]
     },
     "execution_count": 4,
     "metadata": {},
     "output_type": "execute_result"
    }
   ],
   "source": [
    "IMAGES_PATH"
   ]
  },
  {
   "cell_type": "code",
   "execution_count": 5,
   "id": "f075a36c",
   "metadata": {},
   "outputs": [
    {
     "data": {
      "text/plain": [
       "'nt'"
      ]
     },
     "execution_count": 5,
     "metadata": {},
     "output_type": "execute_result"
    }
   ],
   "source": [
    "os.name"
   ]
  },
  {
   "cell_type": "code",
   "execution_count": 6,
   "id": "566ecc21",
   "metadata": {},
   "outputs": [],
   "source": [
    "if not os.path.exists(IMAGES_PATH):\n",
    "    if os.name == 'posix':\n",
    "        !mkdir -p {IMAGES_PATH}\n",
    "    if os.name == 'nt':\n",
    "         !mkdir {IMAGES_PATH}\n",
    "for label in labels:\n",
    "    path = os.path.join(IMAGES_PATH, label)\n",
    "    if not os.path.exists(path):\n",
    "        !mkdir {path}"
   ]
  },
  {
   "cell_type": "markdown",
   "id": "4efc906b",
   "metadata": {},
   "source": [
    "Image Labelling"
   ]
  },
  {
   "cell_type": "code",
   "execution_count": null,
   "id": "e777acd6",
   "metadata": {},
   "outputs": [],
   "source": [
    "!pip install --upgrade pyqt5 lxml"
   ]
  },
  {
   "cell_type": "code",
   "execution_count": 7,
   "id": "4fa85d91",
   "metadata": {},
   "outputs": [],
   "source": [
    "LABELIMG_PATH = os.path.join('Tensorflow', 'labelimg')"
   ]
  },
  {
   "cell_type": "code",
   "execution_count": 8,
   "id": "866ac7f5",
   "metadata": {},
   "outputs": [],
   "source": [
    "if not os.path.exists(LABELIMG_PATH):\n",
    "    !mkdir {LABELIMG_PATH}\n",
    "    !git clone https://github.com/tzutalin/labelImg {LABELIMG_PATH}"
   ]
  },
  {
   "cell_type": "code",
   "execution_count": 9,
   "id": "f035fc8a",
   "metadata": {},
   "outputs": [
    {
     "name": "stdout",
     "output_type": "stream",
     "text": [
      "Package                       Version             Editable project location\n",
      "----------------------------- ------------------- -----------------------------------------------------------------------------------------------------------\n",
      "absl-py                       1.4.0\n",
      "apache-beam                   2.48.0\n",
      "array-record                  0.4.0\n",
      "asttokens                     2.2.1\n",
      "astunparse                    1.6.3\n",
      "avro-python3                  1.10.2\n",
      "backcall                      0.2.0\n",
      "bleach                        6.0.0\n",
      "cachetools                    5.3.1\n",
      "certifi                       2023.5.7\n",
      "charset-normalizer            3.1.0\n",
      "click                         8.1.3\n",
      "cloudpickle                   2.2.1\n",
      "cmake                         3.26.4\n",
      "colorama                      0.4.6\n",
      "comm                          0.1.3\n",
      "contextlib2                   21.6.0\n",
      "contourpy                     1.1.0\n",
      "crcmod                        1.7\n",
      "cycler                        0.11.0\n",
      "Cython                        0.29.35\n",
      "debugpy                       1.6.7\n",
      "decorator                     5.1.1\n",
      "dill                          0.3.1.1\n",
      "dm-tree                       0.1.8\n",
      "dnspython                     2.3.0\n",
      "docopt                        0.6.2\n",
      "etils                         1.3.0\n",
      "executing                     1.2.0\n",
      "fastavro                      1.7.4\n",
      "fasteners                     0.18\n",
      "flatbuffers                   23.5.26\n",
      "fonttools                     4.40.0\n",
      "gast                          0.4.0\n",
      "gin-config                    0.5.0\n",
      "google-api-core               2.11.1\n",
      "google-api-python-client      2.91.0\n",
      "google-auth                   2.21.0\n",
      "google-auth-httplib2          0.1.0\n",
      "google-auth-oauthlib          0.4.6\n",
      "google-pasta                  0.2.0\n",
      "googleapis-common-protos      1.59.1\n",
      "grpcio                        1.56.0\n",
      "h5py                          3.9.0\n",
      "hdfs                          2.7.0\n",
      "httplib2                      0.22.0\n",
      "idna                          3.4\n",
      "immutabledict                 2.2.4\n",
      "importlib-metadata            6.7.0\n",
      "importlib-resources           5.12.0\n",
      "ipykernel                     6.23.3\n",
      "ipython                       8.14.0\n",
      "jax                           0.4.13\n",
      "jedi                          0.18.2\n",
      "joblib                        1.3.1\n",
      "jupyter_client                8.3.0\n",
      "jupyter_core                  5.3.1\n",
      "kaggle                        1.5.15\n",
      "keras                         2.10.0\n",
      "Keras-Preprocessing           1.1.2\n",
      "kiwisolver                    1.4.4\n",
      "libclang                      16.0.0\n",
      "lvis                          0.5.3\n",
      "lxml                          4.9.2\n",
      "Markdown                      3.4.3\n",
      "MarkupSafe                    2.1.3\n",
      "matplotlib                    3.7.1\n",
      "matplotlib-inline             0.1.6\n",
      "ml-dtypes                     0.2.0\n",
      "nest-asyncio                  1.5.6\n",
      "numpy                         1.23.5\n",
      "oauth2client                  4.1.3\n",
      "oauthlib                      3.2.2\n",
      "object-detection              0.1\n",
      "objsize                       0.6.1\n",
      "opencv-python-headless        4.8.0.74\n",
      "opt-einsum                    3.3.0\n",
      "orjson                        3.9.1\n",
      "packaging                     23.1\n",
      "pandas                        2.0.3\n",
      "parso                         0.8.3\n",
      "pickleshare                   0.7.5\n",
      "Pillow                        9.5.0\n",
      "pip                           23.1.2\n",
      "platformdirs                  3.8.0\n",
      "portalocker                   2.7.0\n",
      "promise                       2.3\n",
      "prompt-toolkit                3.0.38\n",
      "proto-plus                    1.22.3\n",
      "protobuf                      3.19.6\n",
      "psutil                        5.9.5\n",
      "pure-eval                     0.2.2\n",
      "py-cpuinfo                    9.0.0\n",
      "pyarrow                       11.0.0\n",
      "pyasn1                        0.5.0\n",
      "pyasn1-modules                0.3.0\n",
      "pycocotools                   2.0.6\n",
      "pydot                         1.4.2\n",
      "Pygments                      2.15.1\n",
      "pymongo                       4.4.0\n",
      "pyparsing                     2.4.7\n",
      "PyQt5                         5.15.9\n",
      "PyQt5-Qt5                     5.15.2\n",
      "PyQt5-sip                     12.12.1\n",
      "python-dateutil               2.8.2\n",
      "python-slugify                8.0.1\n",
      "pytz                          2023.3\n",
      "pywin32                       306\n",
      "PyYAML                        5.4.1\n",
      "pyzmq                         25.1.0\n",
      "regex                         2023.6.3\n",
      "requests                      2.31.0\n",
      "requests-oauthlib             1.3.1\n",
      "rsa                           4.9\n",
      "sacrebleu                     2.2.0\n",
      "scikit-learn                  1.3.0\n",
      "scipy                         1.11.1\n",
      "sentencepiece                 0.1.99\n",
      "seqeval                       1.2.2\n",
      "setuptools                    57.4.0\n",
      "six                           1.16.0\n",
      "slim                          0.1                 c:\\users\\admin\\mlprojects\\neuralnetworksprojects\\chickoocount\\processingimg\\tensorflow\\models\\research\\slim\n",
      "stack-data                    0.6.2\n",
      "tabulate                      0.9.0\n",
      "tensorboard                   2.10.1\n",
      "tensorboard-data-server       0.6.1\n",
      "tensorboard-plugin-wit        1.8.1\n",
      "tensorflow                    2.10.0\n",
      "tensorflow-addons             0.20.0\n",
      "tensorflow-datasets           4.9.2\n",
      "tensorflow-estimator          2.10.0\n",
      "tensorflow-gpu                2.10.0\n",
      "tensorflow-hub                0.13.0\n",
      "tensorflow-intel              2.12.0\n",
      "tensorflow-io                 0.31.0\n",
      "tensorflow-io-gcs-filesystem  0.31.0\n",
      "tensorflow-metadata           1.13.1\n",
      "tensorflow-model-optimization 0.7.5\n",
      "tensorflow-probability        0.20.1\n",
      "tensorflow-text               2.9.0\n",
      "termcolor                     2.3.0\n",
      "text-unidecode                1.3\n",
      "tf-estimator-nightly          2.8.0.dev2021122109\n",
      "tf-models-official            2.12.0\n",
      "tf-slim                       1.1.0\n",
      "threadpoolctl                 3.1.0\n",
      "toml                          0.10.2\n",
      "tornado                       6.3.2\n",
      "tqdm                          4.65.0\n",
      "traitlets                     5.9.0\n",
      "typeguard                     2.13.3\n",
      "typing_extensions             4.7.0\n",
      "uritemplate                   4.1.1\n",
      "urllib3                       1.26.16\n",
      "wcwidth                       0.2.6\n",
      "webencodings                  0.5.1\n",
      "Werkzeug                      2.3.6\n",
      "wget                          3.2\n",
      "wheel                         0.40.0\n",
      "wrapt                         1.14.1\n",
      "zipp                          3.15.0\n",
      "zstandard                     0.21.0\n"
     ]
    },
    {
     "name": "stderr",
     "output_type": "stream",
     "text": [
      "\n",
      "[notice] A new release of pip is available: 23.1.2 -> 23.2.1\n",
      "[notice] To update, run: python.exe -m pip install --upgrade pip\n"
     ]
    }
   ],
   "source": [
    "!pip list"
   ]
  },
  {
   "cell_type": "code",
   "execution_count": 10,
   "id": "4c0e5180",
   "metadata": {},
   "outputs": [],
   "source": [
    "if os.name == 'posix':\n",
    "    !cd {LABELIMG_PATH} && !make qt5py3\n",
    "if os.name =='nt':\n",
    "    !cd {LABELIMG_PATH} && pyrcc5 -o libs/resources.py resources.qrc"
   ]
  },
  {
   "cell_type": "code",
   "execution_count": 11,
   "id": "0c34ef40",
   "metadata": {},
   "outputs": [
    {
     "data": {
      "text/plain": [
       "'Tensorflow\\\\labelimg'"
      ]
     },
     "execution_count": 11,
     "metadata": {},
     "output_type": "execute_result"
    }
   ],
   "source": [
    "LABELIMG_PATH"
   ]
  },
  {
   "cell_type": "code",
   "execution_count": 12,
   "id": "ccebd50e",
   "metadata": {
    "scrolled": false
   },
   "outputs": [
    {
     "name": "stdout",
     "output_type": "stream",
     "text": [
      "Image:C:\\Users\\admin\\MLProjects\\NeuralNetworksProjects\\ChickooCount\\processingImg\\Tensorflow\\workspace\\images\\collectedimages\\chickoo\\chickoo.000050.jpg -> Annotation:C:/Users/admin/MLProjects/NeuralNetworksProjects/ChickooCount/processingImg/Tensorflow/workspace/images/collectedimages/chickoo\\chickoo.000050.xml\n",
      "Image:C:\\Users\\admin\\MLProjects\\NeuralNetworksProjects\\ChickooCount\\processingImg\\Tensorflow\\workspace\\images\\collectedimages\\chickoo\\chickoo.000051.jpg -> Annotation:C:/Users/admin/MLProjects/NeuralNetworksProjects/ChickooCount/processingImg/Tensorflow/workspace/images/collectedimages/chickoo\\chickoo.000051.xml\n",
      "Image:C:\\Users\\admin\\MLProjects\\NeuralNetworksProjects\\ChickooCount\\processingImg\\Tensorflow\\workspace\\images\\collectedimages\\chickoo\\chickoo.000052.jpg -> Annotation:C:/Users/admin/MLProjects/NeuralNetworksProjects/ChickooCount/processingImg/Tensorflow/workspace/images/collectedimages/chickoo\\chickoo.000052.xml\n",
      "Image:C:\\Users\\admin\\MLProjects\\NeuralNetworksProjects\\ChickooCount\\processingImg\\Tensorflow\\workspace\\images\\collectedimages\\chickoo\\chickoo.000053.jpg -> Annotation:C:/Users/admin/MLProjects/NeuralNetworksProjects/ChickooCount/processingImg/Tensorflow/workspace/images/collectedimages/chickoo\\chickoo.000053.xml\n",
      "Image:C:\\Users\\admin\\MLProjects\\NeuralNetworksProjects\\ChickooCount\\processingImg\\Tensorflow\\workspace\\images\\collectedimages\\chickoo\\chickoo.000054.jpg -> Annotation:C:/Users/admin/MLProjects/NeuralNetworksProjects/ChickooCount/processingImg/Tensorflow/workspace/images/collectedimages/chickoo\\chickoo.000054.xml\n",
      "Image:C:\\Users\\admin\\MLProjects\\NeuralNetworksProjects\\ChickooCount\\processingImg\\Tensorflow\\workspace\\images\\collectedimages\\chickoo\\chickoo.000055.jpg -> Annotation:C:/Users/admin/MLProjects/NeuralNetworksProjects/ChickooCount/processingImg/Tensorflow/workspace/images/collectedimages/chickoo\\chickoo.000055.xml\n",
      "Image:C:\\Users\\admin\\MLProjects\\NeuralNetworksProjects\\ChickooCount\\processingImg\\Tensorflow\\workspace\\images\\collectedimages\\chickoo\\chickoo.000056.jpg -> Annotation:C:/Users/admin/MLProjects/NeuralNetworksProjects/ChickooCount/processingImg/Tensorflow/workspace/images/collectedimages/chickoo\\chickoo.000056.xml\n",
      "Image:C:\\Users\\admin\\MLProjects\\NeuralNetworksProjects\\ChickooCount\\processingImg\\Tensorflow\\workspace\\images\\collectedimages\\chickoo\\chickoo.000057.jpg -> Annotation:C:/Users/admin/MLProjects/NeuralNetworksProjects/ChickooCount/processingImg/Tensorflow/workspace/images/collectedimages/chickoo\\chickoo.000057.xml\n",
      "Image:C:\\Users\\admin\\MLProjects\\NeuralNetworksProjects\\ChickooCount\\processingImg\\Tensorflow\\workspace\\images\\collectedimages\\chickoo\\chickoo.000058.jpg -> Annotation:C:/Users/admin/MLProjects/NeuralNetworksProjects/ChickooCount/processingImg/Tensorflow/workspace/images/collectedimages/chickoo\\chickoo.000058.xml\n",
      "Image:C:\\Users\\admin\\MLProjects\\NeuralNetworksProjects\\ChickooCount\\processingImg\\Tensorflow\\workspace\\images\\collectedimages\\chickoo\\chickoo.000059.jpg -> Annotation:C:/Users/admin/MLProjects/NeuralNetworksProjects/ChickooCount/processingImg/Tensorflow/workspace/images/collectedimages/chickoo\\chickoo.000059.xml\n",
      "Image:C:\\Users\\admin\\MLProjects\\NeuralNetworksProjects\\ChickooCount\\processingImg\\Tensorflow\\workspace\\images\\collectedimages\\chickoo\\chickoo.000060.jpg -> Annotation:C:/Users/admin/MLProjects/NeuralNetworksProjects/ChickooCount/processingImg/Tensorflow/workspace/images/collectedimages/chickoo\\chickoo.000060.xml\n",
      "Image:C:\\Users\\admin\\MLProjects\\NeuralNetworksProjects\\ChickooCount\\processingImg\\Tensorflow\\workspace\\images\\collectedimages\\chickoo\\chickoo.000061.jpg -> Annotation:C:/Users/admin/MLProjects/NeuralNetworksProjects/ChickooCount/processingImg/Tensorflow/workspace/images/collectedimages/chickoo\\chickoo.000061.xml\n",
      "Image:C:\\Users\\admin\\MLProjects\\NeuralNetworksProjects\\ChickooCount\\processingImg\\Tensorflow\\workspace\\images\\collectedimages\\chickoo\\chickoo.000062.jpg -> Annotation:C:/Users/admin/MLProjects/NeuralNetworksProjects/ChickooCount/processingImg/Tensorflow/workspace/images/collectedimages/chickoo\\chickoo.000062.xml\n",
      "Image:C:\\Users\\admin\\MLProjects\\NeuralNetworksProjects\\ChickooCount\\processingImg\\Tensorflow\\workspace\\images\\collectedimages\\chickoo\\chickoo.000063.jpg -> Annotation:C:/Users/admin/MLProjects/NeuralNetworksProjects/ChickooCount/processingImg/Tensorflow/workspace/images/collectedimages/chickoo\\chickoo.000063.xml\n",
      "Image:C:\\Users\\admin\\MLProjects\\NeuralNetworksProjects\\ChickooCount\\processingImg\\Tensorflow\\workspace\\images\\collectedimages\\chickoo\\chickoo.000064.jpg -> Annotation:C:/Users/admin/MLProjects/NeuralNetworksProjects/ChickooCount/processingImg/Tensorflow/workspace/images/collectedimages/chickoo\\chickoo.000064.xml\n",
      "Image:C:\\Users\\admin\\MLProjects\\NeuralNetworksProjects\\ChickooCount\\processingImg\\Tensorflow\\workspace\\images\\collectedimages\\chickoo\\chickoo.000065.jpg -> Annotation:C:/Users/admin/MLProjects/NeuralNetworksProjects/ChickooCount/processingImg/Tensorflow/workspace/images/collectedimages/chickoo\\chickoo.000065.xml\n",
      "Image:C:\\Users\\admin\\MLProjects\\NeuralNetworksProjects\\ChickooCount\\processingImg\\Tensorflow\\workspace\\images\\collectedimages\\chickoo\\chickoo.000066.jpg -> Annotation:C:/Users/admin/MLProjects/NeuralNetworksProjects/ChickooCount/processingImg/Tensorflow/workspace/images/collectedimages/chickoo\\chickoo.000066.xml\n",
      "Image:C:\\Users\\admin\\MLProjects\\NeuralNetworksProjects\\ChickooCount\\processingImg\\Tensorflow\\workspace\\images\\collectedimages\\chickoo\\chickoo.000067.jpg -> Annotation:C:/Users/admin/MLProjects/NeuralNetworksProjects/ChickooCount/processingImg/Tensorflow/workspace/images/collectedimages/chickoo\\chickoo.000067.xml\n",
      "Image:C:\\Users\\admin\\MLProjects\\NeuralNetworksProjects\\ChickooCount\\processingImg\\Tensorflow\\workspace\\images\\collectedimages\\chickoo\\chickoo.000068.jpg -> Annotation:C:/Users/admin/MLProjects/NeuralNetworksProjects/ChickooCount/processingImg/Tensorflow/workspace/images/collectedimages/chickoo\\chickoo.000068.xml\n",
      "Image:C:\\Users\\admin\\MLProjects\\NeuralNetworksProjects\\ChickooCount\\processingImg\\Tensorflow\\workspace\\images\\collectedimages\\chickoo\\chickoo.000069.jpg -> Annotation:C:/Users/admin/MLProjects/NeuralNetworksProjects/ChickooCount/processingImg/Tensorflow/workspace/images/collectedimages/chickoo\\chickoo.000069.xml\n",
      "Image:C:\\Users\\admin\\MLProjects\\NeuralNetworksProjects\\ChickooCount\\processingImg\\Tensorflow\\workspace\\images\\collectedimages\\chickoo\\chickoo.000070.jpg -> Annotation:C:/Users/admin/MLProjects/NeuralNetworksProjects/ChickooCount/processingImg/Tensorflow/workspace/images/collectedimages/chickoo\\chickoo.000070.xml\n",
      "Image:C:\\Users\\admin\\MLProjects\\NeuralNetworksProjects\\ChickooCount\\processingImg\\Tensorflow\\workspace\\images\\collectedimages\\chickoo\\chickoo.000070.jpg -> Annotation:C:/Users/admin/MLProjects/NeuralNetworksProjects/ChickooCount/processingImg/Tensorflow/workspace/images/collectedimages/chickoo\\chickoo.000070.xml\n",
      "Image:C:\\Users\\admin\\MLProjects\\NeuralNetworksProjects\\ChickooCount\\processingImg\\Tensorflow\\workspace\\images\\collectedimages\\chickoo\\chickoo.000071.jpg -> Annotation:C:/Users/admin/MLProjects/NeuralNetworksProjects/ChickooCount/processingImg/Tensorflow/workspace/images/collectedimages/chickoo\\chickoo.000071.xml\n",
      "Image:C:\\Users\\admin\\MLProjects\\NeuralNetworksProjects\\ChickooCount\\processingImg\\Tensorflow\\workspace\\images\\collectedimages\\chickoo\\chickoo.000072.jpg -> Annotation:C:/Users/admin/MLProjects/NeuralNetworksProjects/ChickooCount/processingImg/Tensorflow/workspace/images/collectedimages/chickoo\\chickoo.000072.xml\n",
      "Image:C:\\Users\\admin\\MLProjects\\NeuralNetworksProjects\\ChickooCount\\processingImg\\Tensorflow\\workspace\\images\\collectedimages\\chickoo\\chickoo.000073.jpg -> Annotation:C:/Users/admin/MLProjects/NeuralNetworksProjects/ChickooCount/processingImg/Tensorflow/workspace/images/collectedimages/chickoo\\chickoo.000073.xml\n",
      "Image:C:\\Users\\admin\\MLProjects\\NeuralNetworksProjects\\ChickooCount\\processingImg\\Tensorflow\\workspace\\images\\collectedimages\\chickoo\\chickoo.000074.jpg -> Annotation:C:/Users/admin/MLProjects/NeuralNetworksProjects/ChickooCount/processingImg/Tensorflow/workspace/images/collectedimages/chickoo\\chickoo.000074.xml\n",
      "Image:C:\\Users\\admin\\MLProjects\\NeuralNetworksProjects\\ChickooCount\\processingImg\\Tensorflow\\workspace\\images\\collectedimages\\chickoo\\chickoo.000075.jpg -> Annotation:C:/Users/admin/MLProjects/NeuralNetworksProjects/ChickooCount/processingImg/Tensorflow/workspace/images/collectedimages/chickoo\\chickoo.000075.xml\n",
      "Image:C:\\Users\\admin\\MLProjects\\NeuralNetworksProjects\\ChickooCount\\processingImg\\Tensorflow\\workspace\\images\\collectedimages\\chickoo\\chickoo.000076.jpg -> Annotation:C:/Users/admin/MLProjects/NeuralNetworksProjects/ChickooCount/processingImg/Tensorflow/workspace/images/collectedimages/chickoo\\chickoo.000076.xml\n",
      "Image:C:\\Users\\admin\\MLProjects\\NeuralNetworksProjects\\ChickooCount\\processingImg\\Tensorflow\\workspace\\images\\collectedimages\\chickoo\\chickoo.000077.jpg -> Annotation:C:/Users/admin/MLProjects/NeuralNetworksProjects/ChickooCount/processingImg/Tensorflow/workspace/images/collectedimages/chickoo\\chickoo.000077.xml\n",
      "Image:C:\\Users\\admin\\MLProjects\\NeuralNetworksProjects\\ChickooCount\\processingImg\\Tensorflow\\workspace\\images\\collectedimages\\chickoo\\chickoo.000078.jpg -> Annotation:C:/Users/admin/MLProjects/NeuralNetworksProjects/ChickooCount/processingImg/Tensorflow/workspace/images/collectedimages/chickoo\\chickoo.000078.xml\n",
      "Image:C:\\Users\\admin\\MLProjects\\NeuralNetworksProjects\\ChickooCount\\processingImg\\Tensorflow\\workspace\\images\\collectedimages\\chickoo\\chickoo.000079.jpg -> Annotation:C:/Users/admin/MLProjects/NeuralNetworksProjects/ChickooCount/processingImg/Tensorflow/workspace/images/collectedimages/chickoo\\chickoo.000079.xml\n",
      "Image:C:\\Users\\admin\\MLProjects\\NeuralNetworksProjects\\ChickooCount\\processingImg\\Tensorflow\\workspace\\images\\collectedimages\\chickoo\\chickoo.000080.jpg -> Annotation:C:/Users/admin/MLProjects/NeuralNetworksProjects/ChickooCount/processingImg/Tensorflow/workspace/images/collectedimages/chickoo\\chickoo.000080.xml\n",
      "Image:C:\\Users\\admin\\MLProjects\\NeuralNetworksProjects\\ChickooCount\\processingImg\\Tensorflow\\workspace\\images\\collectedimages\\chickoo\\chickoo.000081.jpg -> Annotation:C:/Users/admin/MLProjects/NeuralNetworksProjects/ChickooCount/processingImg/Tensorflow/workspace/images/collectedimages/chickoo\\chickoo.000081.xml\n",
      "Image:C:\\Users\\admin\\MLProjects\\NeuralNetworksProjects\\ChickooCount\\processingImg\\Tensorflow\\workspace\\images\\collectedimages\\chickoo\\chickoo.000082.jpg -> Annotation:C:/Users/admin/MLProjects/NeuralNetworksProjects/ChickooCount/processingImg/Tensorflow/workspace/images/collectedimages/chickoo\\chickoo.000082.xml\n",
      "Image:C:\\Users\\admin\\MLProjects\\NeuralNetworksProjects\\ChickooCount\\processingImg\\Tensorflow\\workspace\\images\\collectedimages\\chickoo\\chickoo.000083.jpg -> Annotation:C:/Users/admin/MLProjects/NeuralNetworksProjects/ChickooCount/processingImg/Tensorflow/workspace/images/collectedimages/chickoo\\chickoo.000083.xml\n",
      "Image:C:\\Users\\admin\\MLProjects\\NeuralNetworksProjects\\ChickooCount\\processingImg\\Tensorflow\\workspace\\images\\collectedimages\\chickoo\\chickoo.000084.jpg -> Annotation:C:/Users/admin/MLProjects/NeuralNetworksProjects/ChickooCount/processingImg/Tensorflow/workspace/images/collectedimages/chickoo\\chickoo.000084.xml\n",
      "Image:C:\\Users\\admin\\MLProjects\\NeuralNetworksProjects\\ChickooCount\\processingImg\\Tensorflow\\workspace\\images\\collectedimages\\chickoo\\chickoo.000085.jpg -> Annotation:C:/Users/admin/MLProjects/NeuralNetworksProjects/ChickooCount/processingImg/Tensorflow/workspace/images/collectedimages/chickoo\\chickoo.000085.xml\n",
      "Image:C:\\Users\\admin\\MLProjects\\NeuralNetworksProjects\\ChickooCount\\processingImg\\Tensorflow\\workspace\\images\\collectedimages\\chickoo\\chickoo.000086.jpg -> Annotation:C:/Users/admin/MLProjects/NeuralNetworksProjects/ChickooCount/processingImg/Tensorflow/workspace/images/collectedimages/chickoo\\chickoo.000086.xml\n",
      "Image:C:\\Users\\admin\\MLProjects\\NeuralNetworksProjects\\ChickooCount\\processingImg\\Tensorflow\\workspace\\images\\collectedimages\\chickoo\\chickoo.000087.jpg -> Annotation:C:/Users/admin/MLProjects/NeuralNetworksProjects/ChickooCount/processingImg/Tensorflow/workspace/images/collectedimages/chickoo\\chickoo.000087.xml\n",
      "Image:C:\\Users\\admin\\MLProjects\\NeuralNetworksProjects\\ChickooCount\\processingImg\\Tensorflow\\workspace\\images\\collectedimages\\chickoo\\chickoo.000088.jpg -> Annotation:C:/Users/admin/MLProjects/NeuralNetworksProjects/ChickooCount/processingImg/Tensorflow/workspace/images/collectedimages/chickoo\\chickoo.000088.xml\n",
      "Image:C:\\Users\\admin\\MLProjects\\NeuralNetworksProjects\\ChickooCount\\processingImg\\Tensorflow\\workspace\\images\\collectedimages\\chickoo\\chickoo.000089.jpg -> Annotation:C:/Users/admin/MLProjects/NeuralNetworksProjects/ChickooCount/processingImg/Tensorflow/workspace/images/collectedimages/chickoo\\chickoo.000089.xml\n",
      "Image:C:\\Users\\admin\\MLProjects\\NeuralNetworksProjects\\ChickooCount\\processingImg\\Tensorflow\\workspace\\images\\collectedimages\\chickoo\\chickoo.000090.jpg -> Annotation:C:/Users/admin/MLProjects/NeuralNetworksProjects/ChickooCount/processingImg/Tensorflow/workspace/images/collectedimages/chickoo\\chickoo.000090.xml\n",
      "Image:C:\\Users\\admin\\MLProjects\\NeuralNetworksProjects\\ChickooCount\\processingImg\\Tensorflow\\workspace\\images\\collectedimages\\chickoo\\chickoo.000091.jpg -> Annotation:C:/Users/admin/MLProjects/NeuralNetworksProjects/ChickooCount/processingImg/Tensorflow/workspace/images/collectedimages/chickoo\\chickoo.000091.xml\n",
      "Image:C:\\Users\\admin\\MLProjects\\NeuralNetworksProjects\\ChickooCount\\processingImg\\Tensorflow\\workspace\\images\\collectedimages\\chickoo\\chickoo.000092.jpg -> Annotation:C:/Users/admin/MLProjects/NeuralNetworksProjects/ChickooCount/processingImg/Tensorflow/workspace/images/collectedimages/chickoo\\chickoo.000092.xml\n",
      "Image:C:\\Users\\admin\\MLProjects\\NeuralNetworksProjects\\ChickooCount\\processingImg\\Tensorflow\\workspace\\images\\collectedimages\\chickoo\\chickoo.000093.jpg -> Annotation:C:/Users/admin/MLProjects/NeuralNetworksProjects/ChickooCount/processingImg/Tensorflow/workspace/images/collectedimages/chickoo\\chickoo.000093.xml\n",
      "Image:C:\\Users\\admin\\MLProjects\\NeuralNetworksProjects\\ChickooCount\\processingImg\\Tensorflow\\workspace\\images\\collectedimages\\chickoo\\chickoo.000094.jpg -> Annotation:C:/Users/admin/MLProjects/NeuralNetworksProjects/ChickooCount/processingImg/Tensorflow/workspace/images/collectedimages/chickoo\\chickoo.000094.xml\n",
      "Image:C:\\Users\\admin\\MLProjects\\NeuralNetworksProjects\\ChickooCount\\processingImg\\Tensorflow\\workspace\\images\\collectedimages\\chickoo\\chickoo.000095.jpg -> Annotation:C:/Users/admin/MLProjects/NeuralNetworksProjects/ChickooCount/processingImg/Tensorflow/workspace/images/collectedimages/chickoo\\chickoo.000095.xml\n",
      "Image:C:\\Users\\admin\\MLProjects\\NeuralNetworksProjects\\ChickooCount\\processingImg\\Tensorflow\\workspace\\images\\collectedimages\\chickoo\\chickoo.000096.jpg -> Annotation:C:/Users/admin/MLProjects/NeuralNetworksProjects/ChickooCount/processingImg/Tensorflow/workspace/images/collectedimages/chickoo\\chickoo.000096.xml\n",
      "Image:C:\\Users\\admin\\MLProjects\\NeuralNetworksProjects\\ChickooCount\\processingImg\\Tensorflow\\workspace\\images\\collectedimages\\chickoo\\chickoo.000097.jpg -> Annotation:C:/Users/admin/MLProjects/NeuralNetworksProjects/ChickooCount/processingImg/Tensorflow/workspace/images/collectedimages/chickoo\\chickoo.000097.xml\n",
      "Image:C:\\Users\\admin\\MLProjects\\NeuralNetworksProjects\\ChickooCount\\processingImg\\Tensorflow\\workspace\\images\\collectedimages\\chickoo\\chickoo.000098.jpg -> Annotation:C:/Users/admin/MLProjects/NeuralNetworksProjects/ChickooCount/processingImg/Tensorflow/workspace/images/collectedimages/chickoo\\chickoo.000098.xml\n",
      "Cancel creation.\n",
      "Image:C:\\Users\\admin\\MLProjects\\NeuralNetworksProjects\\ChickooCount\\processingImg\\Tensorflow\\workspace\\images\\collectedimages\\chickoo\\chickoo.000099.jpg -> Annotation:C:/Users/admin/MLProjects/NeuralNetworksProjects/ChickooCount/processingImg/Tensorflow/workspace/images/collectedimages/chickoo\\chickoo.000099.xml\n",
      "Image:C:\\Users\\admin\\MLProjects\\NeuralNetworksProjects\\ChickooCount\\processingImg\\Tensorflow\\workspace\\images\\collectedimages\\chickoo\\chickoo.000100.jpg -> Annotation:C:/Users/admin/MLProjects/NeuralNetworksProjects/ChickooCount/processingImg/Tensorflow/workspace/images/collectedimages/chickoo\\chickoo.000100.xml\n",
      "Image:C:\\Users\\admin\\MLProjects\\NeuralNetworksProjects\\ChickooCount\\processingImg\\Tensorflow\\workspace\\images\\collectedimages\\chickoo\\chickoo.000101.jpg -> Annotation:C:/Users/admin/MLProjects/NeuralNetworksProjects/ChickooCount/processingImg/Tensorflow/workspace/images/collectedimages/chickoo\\chickoo.000101.xml\n",
      "Image:C:\\Users\\admin\\MLProjects\\NeuralNetworksProjects\\ChickooCount\\processingImg\\Tensorflow\\workspace\\images\\collectedimages\\chickoo\\chickoo.000102.jpg -> Annotation:C:/Users/admin/MLProjects/NeuralNetworksProjects/ChickooCount/processingImg/Tensorflow/workspace/images/collectedimages/chickoo\\chickoo.000102.xml\n",
      "Image:C:\\Users\\admin\\MLProjects\\NeuralNetworksProjects\\ChickooCount\\processingImg\\Tensorflow\\workspace\\images\\collectedimages\\chickoo\\chickoo.000103.jpg -> Annotation:C:/Users/admin/MLProjects/NeuralNetworksProjects/ChickooCount/processingImg/Tensorflow/workspace/images/collectedimages/chickoo\\chickoo.000103.xml\n",
      "Image:C:\\Users\\admin\\MLProjects\\NeuralNetworksProjects\\ChickooCount\\processingImg\\Tensorflow\\workspace\\images\\collectedimages\\chickoo\\chickoo.000104.jpg -> Annotation:C:/Users/admin/MLProjects/NeuralNetworksProjects/ChickooCount/processingImg/Tensorflow/workspace/images/collectedimages/chickoo\\chickoo.000104.xml\n",
      "Image:C:\\Users\\admin\\MLProjects\\NeuralNetworksProjects\\ChickooCount\\processingImg\\Tensorflow\\workspace\\images\\collectedimages\\chickoo\\chickoo.000104.jpg -> Annotation:C:/Users/admin/MLProjects/NeuralNetworksProjects/ChickooCount/processingImg/Tensorflow/workspace/images/collectedimages/chickoo\\chickoo.000104.xml\n",
      "Image:C:\\Users\\admin\\MLProjects\\NeuralNetworksProjects\\ChickooCount\\processingImg\\Tensorflow\\workspace\\images\\collectedimages\\chickoo\\chickoo.000105.jpg -> Annotation:C:/Users/admin/MLProjects/NeuralNetworksProjects/ChickooCount/processingImg/Tensorflow/workspace/images/collectedimages/chickoo\\chickoo.000105.xml\n",
      "Image:C:\\Users\\admin\\MLProjects\\NeuralNetworksProjects\\ChickooCount\\processingImg\\Tensorflow\\workspace\\images\\collectedimages\\chickoo\\chickoo.000106.jpg -> Annotation:C:/Users/admin/MLProjects/NeuralNetworksProjects/ChickooCount/processingImg/Tensorflow/workspace/images/collectedimages/chickoo\\chickoo.000106.xml\n",
      "Image:C:\\Users\\admin\\MLProjects\\NeuralNetworksProjects\\ChickooCount\\processingImg\\Tensorflow\\workspace\\images\\collectedimages\\chickoo\\chickoo.000107.jpg -> Annotation:C:/Users/admin/MLProjects/NeuralNetworksProjects/ChickooCount/processingImg/Tensorflow/workspace/images/collectedimages/chickoo\\chickoo.000107.xml\n",
      "Image:C:\\Users\\admin\\MLProjects\\NeuralNetworksProjects\\ChickooCount\\processingImg\\Tensorflow\\workspace\\images\\collectedimages\\chickoo\\chickoo.000108.jpg -> Annotation:C:/Users/admin/MLProjects/NeuralNetworksProjects/ChickooCount/processingImg/Tensorflow/workspace/images/collectedimages/chickoo\\chickoo.000108.xml\n",
      "Image:C:\\Users\\admin\\MLProjects\\NeuralNetworksProjects\\ChickooCount\\processingImg\\Tensorflow\\workspace\\images\\collectedimages\\chickoo\\chickoo.000109.jpg -> Annotation:C:/Users/admin/MLProjects/NeuralNetworksProjects/ChickooCount/processingImg/Tensorflow/workspace/images/collectedimages/chickoo\\chickoo.000109.xml\n",
      "Image:C:\\Users\\admin\\MLProjects\\NeuralNetworksProjects\\ChickooCount\\processingImg\\Tensorflow\\workspace\\images\\collectedimages\\chickoo\\chickoo.000110.jpg -> Annotation:C:/Users/admin/MLProjects/NeuralNetworksProjects/ChickooCount/processingImg/Tensorflow/workspace/images/collectedimages/chickoo\\chickoo.000110.xml\n",
      "Image:C:\\Users\\admin\\MLProjects\\NeuralNetworksProjects\\ChickooCount\\processingImg\\Tensorflow\\workspace\\images\\collectedimages\\chickoo\\chickoo.000111.jpg -> Annotation:C:/Users/admin/MLProjects/NeuralNetworksProjects/ChickooCount/processingImg/Tensorflow/workspace/images/collectedimages/chickoo\\chickoo.000111.xml\n",
      "Image:C:\\Users\\admin\\MLProjects\\NeuralNetworksProjects\\ChickooCount\\processingImg\\Tensorflow\\workspace\\images\\collectedimages\\chickoo\\chickoo.000112.jpg -> Annotation:C:/Users/admin/MLProjects/NeuralNetworksProjects/ChickooCount/processingImg/Tensorflow/workspace/images/collectedimages/chickoo\\chickoo.000112.xml\n",
      "Image:C:\\Users\\admin\\MLProjects\\NeuralNetworksProjects\\ChickooCount\\processingImg\\Tensorflow\\workspace\\images\\collectedimages\\chickoo\\chickoo.000113.jpg -> Annotation:C:/Users/admin/MLProjects/NeuralNetworksProjects/ChickooCount/processingImg/Tensorflow/workspace/images/collectedimages/chickoo\\chickoo.000113.xml\n",
      "Image:C:\\Users\\admin\\MLProjects\\NeuralNetworksProjects\\ChickooCount\\processingImg\\Tensorflow\\workspace\\images\\collectedimages\\chickoo\\chickoo.000114.jpg -> Annotation:C:/Users/admin/MLProjects/NeuralNetworksProjects/ChickooCount/processingImg/Tensorflow/workspace/images/collectedimages/chickoo\\chickoo.000114.xml\n",
      "Image:C:\\Users\\admin\\MLProjects\\NeuralNetworksProjects\\ChickooCount\\processingImg\\Tensorflow\\workspace\\images\\collectedimages\\chickoo\\chickoo.000115.jpg -> Annotation:C:/Users/admin/MLProjects/NeuralNetworksProjects/ChickooCount/processingImg/Tensorflow/workspace/images/collectedimages/chickoo\\chickoo.000115.xml\n",
      "Image:C:\\Users\\admin\\MLProjects\\NeuralNetworksProjects\\ChickooCount\\processingImg\\Tensorflow\\workspace\\images\\collectedimages\\chickoo\\chickoo.000116.jpg -> Annotation:C:/Users/admin/MLProjects/NeuralNetworksProjects/ChickooCount/processingImg/Tensorflow/workspace/images/collectedimages/chickoo\\chickoo.000116.xml\n",
      "Image:C:\\Users\\admin\\MLProjects\\NeuralNetworksProjects\\ChickooCount\\processingImg\\Tensorflow\\workspace\\images\\collectedimages\\chickoo\\chickoo.000117.jpg -> Annotation:C:/Users/admin/MLProjects/NeuralNetworksProjects/ChickooCount/processingImg/Tensorflow/workspace/images/collectedimages/chickoo\\chickoo.000117.xml\n",
      "Image:C:\\Users\\admin\\MLProjects\\NeuralNetworksProjects\\ChickooCount\\processingImg\\Tensorflow\\workspace\\images\\collectedimages\\chickoo\\chickoo.000118.jpg -> Annotation:C:/Users/admin/MLProjects/NeuralNetworksProjects/ChickooCount/processingImg/Tensorflow/workspace/images/collectedimages/chickoo\\chickoo.000118.xml\n",
      "Image:C:\\Users\\admin\\MLProjects\\NeuralNetworksProjects\\ChickooCount\\processingImg\\Tensorflow\\workspace\\images\\collectedimages\\chickoo\\chickoo.000119.jpg -> Annotation:C:/Users/admin/MLProjects/NeuralNetworksProjects/ChickooCount/processingImg/Tensorflow/workspace/images/collectedimages/chickoo\\chickoo.000119.xml\n",
      "Image:C:\\Users\\admin\\MLProjects\\NeuralNetworksProjects\\ChickooCount\\processingImg\\Tensorflow\\workspace\\images\\collectedimages\\chickoo\\chickoo.000120.jpg -> Annotation:C:/Users/admin/MLProjects/NeuralNetworksProjects/ChickooCount/processingImg/Tensorflow/workspace/images/collectedimages/chickoo\\chickoo.000120.xml\n",
      "Image:C:\\Users\\admin\\MLProjects\\NeuralNetworksProjects\\ChickooCount\\processingImg\\Tensorflow\\workspace\\images\\collectedimages\\chickoo\\chickoo.000121.jpg -> Annotation:C:/Users/admin/MLProjects/NeuralNetworksProjects/ChickooCount/processingImg/Tensorflow/workspace/images/collectedimages/chickoo\\chickoo.000121.xml\n",
      "Image:C:\\Users\\admin\\MLProjects\\NeuralNetworksProjects\\ChickooCount\\processingImg\\Tensorflow\\workspace\\images\\collectedimages\\chickoo\\chickoo.000122.jpg -> Annotation:C:/Users/admin/MLProjects/NeuralNetworksProjects/ChickooCount/processingImg/Tensorflow/workspace/images/collectedimages/chickoo\\chickoo.000122.xml\n",
      "Image:C:\\Users\\admin\\MLProjects\\NeuralNetworksProjects\\ChickooCount\\processingImg\\Tensorflow\\workspace\\images\\collectedimages\\chickoo\\chickoo.000123.jpg -> Annotation:C:/Users/admin/MLProjects/NeuralNetworksProjects/ChickooCount/processingImg/Tensorflow/workspace/images/collectedimages/chickoo\\chickoo.000123.xml\n",
      "Image:C:\\Users\\admin\\MLProjects\\NeuralNetworksProjects\\ChickooCount\\processingImg\\Tensorflow\\workspace\\images\\collectedimages\\chickoo\\chickoo.000124.jpg -> Annotation:C:/Users/admin/MLProjects/NeuralNetworksProjects/ChickooCount/processingImg/Tensorflow/workspace/images/collectedimages/chickoo\\chickoo.000124.xml\n",
      "Image:C:\\Users\\admin\\MLProjects\\NeuralNetworksProjects\\ChickooCount\\processingImg\\Tensorflow\\workspace\\images\\collectedimages\\chickoo\\chickoo.000125.jpg -> Annotation:C:/Users/admin/MLProjects/NeuralNetworksProjects/ChickooCount/processingImg/Tensorflow/workspace/images/collectedimages/chickoo\\chickoo.000125.xml\n",
      "Image:C:\\Users\\admin\\MLProjects\\NeuralNetworksProjects\\ChickooCount\\processingImg\\Tensorflow\\workspace\\images\\collectedimages\\chickoo\\chickoo.000126.jpg -> Annotation:C:/Users/admin/MLProjects/NeuralNetworksProjects/ChickooCount/processingImg/Tensorflow/workspace/images/collectedimages/chickoo\\chickoo.000126.xml\n",
      "Image:C:\\Users\\admin\\MLProjects\\NeuralNetworksProjects\\ChickooCount\\processingImg\\Tensorflow\\workspace\\images\\collectedimages\\chickoo\\chickoo.000127.jpg -> Annotation:C:/Users/admin/MLProjects/NeuralNetworksProjects/ChickooCount/processingImg/Tensorflow/workspace/images/collectedimages/chickoo\\chickoo.000127.xml\n",
      "Image:C:\\Users\\admin\\MLProjects\\NeuralNetworksProjects\\ChickooCount\\processingImg\\Tensorflow\\workspace\\images\\collectedimages\\chickoo\\chickoo.000128.jpg -> Annotation:C:/Users/admin/MLProjects/NeuralNetworksProjects/ChickooCount/processingImg/Tensorflow/workspace/images/collectedimages/chickoo\\chickoo.000128.xml\n",
      "Image:C:\\Users\\admin\\MLProjects\\NeuralNetworksProjects\\ChickooCount\\processingImg\\Tensorflow\\workspace\\images\\collectedimages\\chickoo\\chickoo.000129.jpg -> Annotation:C:/Users/admin/MLProjects/NeuralNetworksProjects/ChickooCount/processingImg/Tensorflow/workspace/images/collectedimages/chickoo\\chickoo.000129.xml\n",
      "Image:C:\\Users\\admin\\MLProjects\\NeuralNetworksProjects\\ChickooCount\\processingImg\\Tensorflow\\workspace\\images\\collectedimages\\chickoo\\chickoo.000130.jpg -> Annotation:C:/Users/admin/MLProjects/NeuralNetworksProjects/ChickooCount/processingImg/Tensorflow/workspace/images/collectedimages/chickoo\\chickoo.000130.xml\n",
      "Image:C:\\Users\\admin\\MLProjects\\NeuralNetworksProjects\\ChickooCount\\processingImg\\Tensorflow\\workspace\\images\\collectedimages\\chickoo\\chickoo.000131.jpg -> Annotation:C:/Users/admin/MLProjects/NeuralNetworksProjects/ChickooCount/processingImg/Tensorflow/workspace/images/collectedimages/chickoo\\chickoo.000131.xml\n",
      "Image:C:\\Users\\admin\\MLProjects\\NeuralNetworksProjects\\ChickooCount\\processingImg\\Tensorflow\\workspace\\images\\collectedimages\\chickoo\\chickoo.000132.jpg -> Annotation:C:/Users/admin/MLProjects/NeuralNetworksProjects/ChickooCount/processingImg/Tensorflow/workspace/images/collectedimages/chickoo\\chickoo.000132.xml\n",
      "Image:C:\\Users\\admin\\MLProjects\\NeuralNetworksProjects\\ChickooCount\\processingImg\\Tensorflow\\workspace\\images\\collectedimages\\chickoo\\chickoo.000133.jpg -> Annotation:C:/Users/admin/MLProjects/NeuralNetworksProjects/ChickooCount/processingImg/Tensorflow/workspace/images/collectedimages/chickoo\\chickoo.000133.xml\n",
      "Image:C:\\Users\\admin\\MLProjects\\NeuralNetworksProjects\\ChickooCount\\processingImg\\Tensorflow\\workspace\\images\\collectedimages\\chickoo\\chickoo.000134.jpg -> Annotation:C:/Users/admin/MLProjects/NeuralNetworksProjects/ChickooCount/processingImg/Tensorflow/workspace/images/collectedimages/chickoo\\chickoo.000134.xml\n",
      "Image:C:\\Users\\admin\\MLProjects\\NeuralNetworksProjects\\ChickooCount\\processingImg\\Tensorflow\\workspace\\images\\collectedimages\\chickoo\\chickoo.000135.jpg -> Annotation:C:/Users/admin/MLProjects/NeuralNetworksProjects/ChickooCount/processingImg/Tensorflow/workspace/images/collectedimages/chickoo\\chickoo.000135.xml\n",
      "Image:C:\\Users\\admin\\MLProjects\\NeuralNetworksProjects\\ChickooCount\\processingImg\\Tensorflow\\workspace\\images\\collectedimages\\chickoo\\chickoo.000136.jpg -> Annotation:C:/Users/admin/MLProjects/NeuralNetworksProjects/ChickooCount/processingImg/Tensorflow/workspace/images/collectedimages/chickoo\\chickoo.000136.xml\n",
      "Image:C:\\Users\\admin\\MLProjects\\NeuralNetworksProjects\\ChickooCount\\processingImg\\Tensorflow\\workspace\\images\\collectedimages\\chickoo\\chickoo.000137.jpg -> Annotation:C:/Users/admin/MLProjects/NeuralNetworksProjects/ChickooCount/processingImg/Tensorflow/workspace/images/collectedimages/chickoo\\chickoo.000137.xml\n",
      "Image:C:\\Users\\admin\\MLProjects\\NeuralNetworksProjects\\ChickooCount\\processingImg\\Tensorflow\\workspace\\images\\collectedimages\\chickoo\\chickoo.000138.jpg -> Annotation:C:/Users/admin/MLProjects/NeuralNetworksProjects/ChickooCount/processingImg/Tensorflow/workspace/images/collectedimages/chickoo\\chickoo.000138.xml\n",
      "Image:C:\\Users\\admin\\MLProjects\\NeuralNetworksProjects\\ChickooCount\\processingImg\\Tensorflow\\workspace\\images\\collectedimages\\chickoo\\chickoo.000139.jpg -> Annotation:C:/Users/admin/MLProjects/NeuralNetworksProjects/ChickooCount/processingImg/Tensorflow/workspace/images/collectedimages/chickoo\\chickoo.000139.xml\n",
      "Image:C:\\Users\\admin\\MLProjects\\NeuralNetworksProjects\\ChickooCount\\processingImg\\Tensorflow\\workspace\\images\\collectedimages\\chickoo\\chickoo.000140.jpg -> Annotation:C:/Users/admin/MLProjects/NeuralNetworksProjects/ChickooCount/processingImg/Tensorflow/workspace/images/collectedimages/chickoo\\chickoo.000140.xml\n",
      "Image:C:\\Users\\admin\\MLProjects\\NeuralNetworksProjects\\ChickooCount\\processingImg\\Tensorflow\\workspace\\images\\collectedimages\\chickoo\\chickoo.000141.jpg -> Annotation:C:/Users/admin/MLProjects/NeuralNetworksProjects/ChickooCount/processingImg/Tensorflow/workspace/images/collectedimages/chickoo\\chickoo.000141.xml\n",
      "Image:C:\\Users\\admin\\MLProjects\\NeuralNetworksProjects\\ChickooCount\\processingImg\\Tensorflow\\workspace\\images\\collectedimages\\chickoo\\chickoo.000141.jpg -> Annotation:C:/Users/admin/MLProjects/NeuralNetworksProjects/ChickooCount/processingImg/Tensorflow/workspace/images/collectedimages/chickoo\\chickoo.000141.xml\n",
      "Image:C:\\Users\\admin\\MLProjects\\NeuralNetworksProjects\\ChickooCount\\processingImg\\Tensorflow\\workspace\\images\\collectedimages\\chickoo\\chickoo.000142.jpg -> Annotation:C:/Users/admin/MLProjects/NeuralNetworksProjects/ChickooCount/processingImg/Tensorflow/workspace/images/collectedimages/chickoo\\chickoo.000142.xml\n",
      "Image:C:\\Users\\admin\\MLProjects\\NeuralNetworksProjects\\ChickooCount\\processingImg\\Tensorflow\\workspace\\images\\collectedimages\\chickoo\\chickoo.000143.jpg -> Annotation:C:/Users/admin/MLProjects/NeuralNetworksProjects/ChickooCount/processingImg/Tensorflow/workspace/images/collectedimages/chickoo\\chickoo.000143.xml\n",
      "Image:C:\\Users\\admin\\MLProjects\\NeuralNetworksProjects\\ChickooCount\\processingImg\\Tensorflow\\workspace\\images\\collectedimages\\chickoo\\chickoo.000144.jpg -> Annotation:C:/Users/admin/MLProjects/NeuralNetworksProjects/ChickooCount/processingImg/Tensorflow/workspace/images/collectedimages/chickoo\\chickoo.000144.xml\n",
      "Image:C:\\Users\\admin\\MLProjects\\NeuralNetworksProjects\\ChickooCount\\processingImg\\Tensorflow\\workspace\\images\\collectedimages\\chickoo\\chickoo.000145.jpg -> Annotation:C:/Users/admin/MLProjects/NeuralNetworksProjects/ChickooCount/processingImg/Tensorflow/workspace/images/collectedimages/chickoo\\chickoo.000145.xml\n",
      "Image:C:\\Users\\admin\\MLProjects\\NeuralNetworksProjects\\ChickooCount\\processingImg\\Tensorflow\\workspace\\images\\collectedimages\\chickoo\\chickoo.000146.jpg -> Annotation:C:/Users/admin/MLProjects/NeuralNetworksProjects/ChickooCount/processingImg/Tensorflow/workspace/images/collectedimages/chickoo\\chickoo.000146.xml\n",
      "Image:C:\\Users\\admin\\MLProjects\\NeuralNetworksProjects\\ChickooCount\\processingImg\\Tensorflow\\workspace\\images\\collectedimages\\chickoo\\chickoo.000147.jpg -> Annotation:C:/Users/admin/MLProjects/NeuralNetworksProjects/ChickooCount/processingImg/Tensorflow/workspace/images/collectedimages/chickoo\\chickoo.000147.xml\n",
      "Image:C:\\Users\\admin\\MLProjects\\NeuralNetworksProjects\\ChickooCount\\processingImg\\Tensorflow\\workspace\\images\\collectedimages\\chickoo\\chickoo.000148.jpg -> Annotation:C:/Users/admin/MLProjects/NeuralNetworksProjects/ChickooCount/processingImg/Tensorflow/workspace/images/collectedimages/chickoo\\chickoo.000148.xml\n",
      "Image:C:\\Users\\admin\\MLProjects\\NeuralNetworksProjects\\ChickooCount\\processingImg\\Tensorflow\\workspace\\images\\collectedimages\\chickoo\\chickoo.000149.jpg -> Annotation:C:/Users/admin/MLProjects/NeuralNetworksProjects/ChickooCount/processingImg/Tensorflow/workspace/images/collectedimages/chickoo\\chickoo.000149.xml\n"
     ]
    }
   ],
   "source": [
    "!cd {LABELIMG_PATH} && python labelImg.py"
   ]
  },
  {
   "cell_type": "markdown",
   "id": "6fb35fe1",
   "metadata": {},
   "source": [
    "Google colab compression"
   ]
  },
  {
   "cell_type": "code",
   "execution_count": 13,
   "id": "8788f45a",
   "metadata": {},
   "outputs": [],
   "source": [
    "TRAIN_PATH = os.path.join('Tensorflow', 'workspace', 'images', 'train')\n",
    "TEST_PATH = os.path.join('Tensorflow', 'workspace', 'images', 'test')\n",
    "ARCHIVE_PATH = os.path.join('Tensorflow', 'workspace', 'images', 'archive.tar.gz')"
   ]
  },
  {
   "cell_type": "code",
   "execution_count": 15,
   "id": "6e1c3b00",
   "metadata": {},
   "outputs": [],
   "source": [
    "!tar -czf {ARCHIVE_PATH} {TRAIN_PATH} {TEST_PATH}"
   ]
  }
 ],
 "metadata": {
  "kernelspec": {
   "display_name": "tflowj",
   "language": "python",
   "name": "tflowj"
  },
  "language_info": {
   "codemirror_mode": {
    "name": "ipython",
    "version": 3
   },
   "file_extension": ".py",
   "mimetype": "text/x-python",
   "name": "python",
   "nbconvert_exporter": "python",
   "pygments_lexer": "ipython3",
   "version": "3.9.7"
  }
 },
 "nbformat": 4,
 "nbformat_minor": 5
}
